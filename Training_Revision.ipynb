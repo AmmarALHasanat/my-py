{
 "cells": [
  {
   "cell_type": "markdown",
   "id": "70fd97eb",
   "metadata": {},
   "source": [
    "# Python Revision"
   ]
  },
  {
   "cell_type": "markdown",
   "id": "cf18006f",
   "metadata": {},
   "source": [
    "## Introduction and Statements:"
   ]
  },
  {
   "cell_type": "code",
   "execution_count": 11,
   "id": "36b87ce5",
   "metadata": {},
   "outputs": [
    {
     "name": "stdout",
     "output_type": "stream",
     "text": [
      "Hello, welcome to shAI Machine Learning Course 2022!\n"
     ]
    }
   ],
   "source": [
    "print(\"Hello, welcome to shAI Machine Learning Course 2022!\")"
   ]
  },
  {
   "cell_type": "code",
   "execution_count": 12,
   "id": "439ce63f",
   "metadata": {},
   "outputs": [
    {
     "name": "stdout",
     "output_type": "stream",
     "text": [
      "Thank you for saying: \n"
     ]
    }
   ],
   "source": [
    "statement = input(\"Enter your statement: \")\n",
    "\n",
    "print(\"Thank you for saying: \" + statement)"
   ]
  },
  {
   "cell_type": "markdown",
   "id": "e5ee38af",
   "metadata": {},
   "source": [
    "## Basic Datatypes:"
   ]
  },
  {
   "cell_type": "markdown",
   "id": "60ea5427",
   "metadata": {},
   "source": [
    "### Numerical Datatypes:"
   ]
  },
  {
   "cell_type": "code",
   "execution_count": 13,
   "id": "d486a9aa",
   "metadata": {},
   "outputs": [
    {
     "name": "stdout",
     "output_type": "stream",
     "text": [
      "5\n",
      "2.3\n",
      "-10.6\n",
      "5 2.3 -10.6\n"
     ]
    }
   ],
   "source": [
    "a = 5\n",
    "b = 2.3\n",
    "c = -10.6\n",
    "d = 3\n",
    "\n",
    "print(a)\n",
    "print(b)\n",
    "print(c)\n",
    "print(a,b,c)"
   ]
  },
  {
   "cell_type": "markdown",
   "id": "9552bbb2",
   "metadata": {},
   "source": [
    "#### Operations on Numbers:"
   ]
  },
  {
   "cell_type": "code",
   "execution_count": 14,
   "id": "1c89074c",
   "metadata": {},
   "outputs": [
    {
     "name": "stdout",
     "output_type": "stream",
     "text": [
      "7.3\n",
      "12.899999999999999\n",
      "-53.0\n",
      "2.173913043478261\n",
      "2.0\n",
      "25\n",
      "2\n"
     ]
    }
   ],
   "source": [
    "# Addition:\n",
    "print(a+b)\n",
    "# Subtraction:\n",
    "print(b-c)\n",
    "# Multiplication:\n",
    "print(a*c)\n",
    "#Division - remember not to divide over zero!\n",
    "print(a/b)\n",
    "# Integer Division:\n",
    "print(a//b)\n",
    "# Exponents:\n",
    "print(a**2)\n",
    "# Modulus:\n",
    "print(a%d)\n",
    "\n",
    "# Order of operations: check https://docs.python.org/3/reference/expressions.html#operator-precedence\n",
    "# The same order of mathematical operations, but with more details regarding programming expressions."
   ]
  },
  {
   "cell_type": "markdown",
   "id": "604b9867",
   "metadata": {},
   "source": [
    "#### Strings:"
   ]
  },
  {
   "cell_type": "code",
   "execution_count": 15,
   "id": "95eed50a",
   "metadata": {},
   "outputs": [
    {
     "name": "stdout",
     "output_type": "stream",
     "text": [
      "This is a string.\n",
      "name3512\n"
     ]
    }
   ],
   "source": [
    "s = \"This is a string.\"\n",
    "s1 = \"name\"\n",
    "s2 = \"3512\"\n",
    "s3 = \"dd/mm/yyyy\"\n",
    "\n",
    "# Strings are used to store entire words, made up of characters. Characters could be letters, \n",
    "# numbers, or special characters.\n",
    "\n",
    "print(s)\n",
    "print(s1 + s2)"
   ]
  },
  {
   "cell_type": "markdown",
   "id": "53b1ba3b",
   "metadata": {},
   "source": [
    "### Booleans\n",
    "Booleans are the simplest of datatypes, it basically stores only `True` and `False`. \n",
    "Note that `True` and `False` keywords are case-sensitive, as most programming languages are."
   ]
  },
  {
   "cell_type": "code",
   "execution_count": 16,
   "id": "bef73543",
   "metadata": {},
   "outputs": [
    {
     "name": "stdout",
     "output_type": "stream",
     "text": [
      "True\n",
      "False\n"
     ]
    }
   ],
   "source": [
    "print(True) # notice the color change.\n",
    "b = False\n",
    "print(b)"
   ]
  },
  {
   "cell_type": "markdown",
   "id": "be2d3ecc",
   "metadata": {},
   "source": [
    "#### Lists, Tuples, and Dictionaries:"
   ]
  },
  {
   "cell_type": "markdown",
   "id": "c517a181",
   "metadata": {},
   "source": [
    "##### Lists:"
   ]
  },
  {
   "cell_type": "code",
   "execution_count": 17,
   "id": "81cc0daf",
   "metadata": {},
   "outputs": [
    {
     "name": "stdout",
     "output_type": "stream",
     "text": [
      "Khaled\n",
      "[50, 3, 15, 32, 564, 97, 84]\n",
      "['Ahmad', 'Abdullah', 'Khaled', 'Dima', 'Anas']\n",
      "['Ahmad', 'Abdullah', 'Khaled', 'Hamed', 'Dima', 'Anas']\n",
      "['Ahmad', 'Not Abdullah', 'Khaled', 'Hamed', 'Dima', 'Anas']\n"
     ]
    }
   ],
   "source": [
    "names = [\"Ahmad\", \"Abdullah\",\"Khaled\",\"Dima\"]\n",
    "print(names[2])\n",
    "\n",
    "prices = [50,3,15,32,564,97,84]\n",
    "print(prices)\n",
    "\n",
    "# Editing lists:\n",
    "names.append(\"Anas\")\n",
    "print(names)\n",
    "\n",
    "names.insert(3,\"Hamed\")\n",
    "print(names)\n",
    "\n",
    "names[1] = \"Not Abdullah\"\n",
    "print(names)"
   ]
  },
  {
   "cell_type": "markdown",
   "id": "56408bf2",
   "metadata": {},
   "source": [
    "##### Tuples:"
   ]
  },
  {
   "cell_type": "code",
   "execution_count": 34,
   "id": "c2a2e3c3",
   "metadata": {},
   "outputs": [
    {
     "name": "stdout",
     "output_type": "stream",
     "text": [
      "Abdullah\n",
      "1531253\n",
      "\n",
      "('Abdullah Almohammadi', 1093241)\n"
     ]
    }
   ],
   "source": [
    "student0 = (\"Abdullah\", 1093241)\n",
    "student1 = (\"Khalil\", 1531253)\n",
    "\n",
    "print(student0[0])\n",
    "print(student1[1])\n",
    "print()\n",
    "# Editing tuples:\n",
    "# student0[1] = 1561215 # ??? TypeError?\n",
    "student0=list(student0)\n",
    "student0[0] = \"Abdullah Almohammadi\"\n",
    "student0=tuple(student0)\n",
    "print(student0)\n",
    "\n",
    "# If you can't edit tuples, then why use them?"
   ]
  },
  {
   "cell_type": "markdown",
   "id": "51240f8c",
   "metadata": {},
   "source": [
    "##### Dictionaries:"
   ]
  },
  {
   "cell_type": "code",
   "execution_count": 35,
   "id": "ee1f990c",
   "metadata": {},
   "outputs": [
    {
     "name": "stdout",
     "output_type": "stream",
     "text": [
      "{'SSD': 4, 'RAM': 6, 'Monitor': 3, 'Mouse': 5}\n"
     ]
    }
   ],
   "source": [
    "items = {\"SSD\": 4, \"RAM\": 6, \"Monitor\": 3}\n",
    "\n",
    "items[\"SSD\"]\n",
    "\n",
    "items[\"Mouse\"] = 5\n",
    "print(items)"
   ]
  },
  {
   "cell_type": "markdown",
   "id": "d6662dfb",
   "metadata": {},
   "source": [
    "### Concatenating and Accessing Data/DataTypes:\n",
    "Some datatypes can store different values at the same time, and we access those different values using indices. But what if we want to deal with 2 differnt datatypes at the same time? Like `strings` and `integers`, as an example? Let's find out."
   ]
  },
  {
   "cell_type": "markdown",
   "id": "315a17cd",
   "metadata": {},
   "source": [
    "#### Accessing Lists:"
   ]
  },
  {
   "cell_type": "code",
   "execution_count": 36,
   "id": "e4501221",
   "metadata": {},
   "outputs": [
    {
     "name": "stdout",
     "output_type": "stream",
     "text": [
      "1 56 14\n"
     ]
    }
   ],
   "source": [
    "# Strings are considered lists of characters, so whatever applies to lists, applies to strings as well.\n",
    "\n",
    "# Accessing a single element: l[index], as indexing starts from 0\n",
    "l = [1,56,2,1,52,14,51,4]\n",
    "print(l[0],l[1],l[5])"
   ]
  },
  {
   "cell_type": "markdown",
   "id": "2be4ee06",
   "metadata": {},
   "source": [
    "#### Slicing:"
   ]
  },
  {
   "cell_type": "code",
   "execution_count": 37,
   "id": "c990fa42",
   "metadata": {},
   "outputs": [
    {
     "name": "stdout",
     "output_type": "stream",
     "text": [
      "[56, 2, 1]\n",
      "hn Doe\n",
      "John Do\n",
      "e\n",
      "o\n",
      " Do\n",
      "John Do\n"
     ]
    }
   ],
   "source": [
    "# Slicing (accessing a range of elements):\n",
    "print(l[1:4])\n",
    "# Notice that the slice starts from index 1 (inclusive) and ends at index 4 (exclusive).\n",
    "\n",
    "name = \"John Doe\"\n",
    "print(name[2:])\n",
    "print(name[:7])\n",
    "print(name[-1])\n",
    "print(name[-2])\n",
    "print(name[-4:-1])\n",
    "print(name[:-1])\n",
    "# The negative indices of the list means the list is now reversed, and we can\n",
    "# access its content in the other direction.\n",
    "# index: -4  -3 -2 -1  0  1  2  3\n",
    "# value: ' '  D  o  e  J  o  h  n"
   ]
  },
  {
   "cell_type": "markdown",
   "id": "e609ed44",
   "metadata": {},
   "source": [
    "#### Concatenation and Casting"
   ]
  },
  {
   "cell_type": "code",
   "execution_count": 38,
   "id": "daaec1c1",
   "metadata": {},
   "outputs": [
    {
     "name": "stdout",
     "output_type": "stream",
     "text": [
      "My name is: Abdullah\n"
     ]
    }
   ],
   "source": [
    "# Sometimes, it's necessary to mix data types into one variable.\n",
    "s = \"My name is: \"\n",
    "name = \"Abdullah\"\n",
    "\n",
    "print(s + name)"
   ]
  },
  {
   "cell_type": "code",
   "execution_count": 39,
   "id": "fe453cad",
   "metadata": {},
   "outputs": [
    {
     "name": "stdout",
     "output_type": "stream",
     "text": [
      "My name is: Abdullah\n"
     ]
    }
   ],
   "source": [
    "#OR:\n",
    "string = s + name\n",
    "print(string)\n",
    "\n",
    "# This is called Concatenation"
   ]
  },
  {
   "cell_type": "code",
   "execution_count": 40,
   "id": "80b7b57b",
   "metadata": {},
   "outputs": [
    {
     "ename": "TypeError",
     "evalue": "can only concatenate str (not \"int\") to str",
     "output_type": "error",
     "traceback": [
      "\u001b[0;31m---------------------------------------------------------------------------\u001b[0m",
      "\u001b[0;31mTypeError\u001b[0m                                 Traceback (most recent call last)",
      "\u001b[1;32m/home/ammaralhasanat/projects/github/python-test/Training_Revision.ipynb Cell 29\u001b[0m in \u001b[0;36m<cell line: 4>\u001b[0;34m()\u001b[0m\n\u001b[1;32m      <a href='vscode-notebook-cell:/home/ammaralhasanat/projects/github/python-test/Training_Revision.ipynb#X40sZmlsZQ%3D%3D?line=1'>2</a>\u001b[0m age \u001b[39m=\u001b[39m \u001b[39m20\u001b[39m\n\u001b[1;32m      <a href='vscode-notebook-cell:/home/ammaralhasanat/projects/github/python-test/Training_Revision.ipynb#X40sZmlsZQ%3D%3D?line=2'>3</a>\u001b[0m s \u001b[39m=\u001b[39m \u001b[39m\"\u001b[39m\u001b[39mMy age is: \u001b[39m\u001b[39m\"\u001b[39m\n\u001b[0;32m----> <a href='vscode-notebook-cell:/home/ammaralhasanat/projects/github/python-test/Training_Revision.ipynb#X40sZmlsZQ%3D%3D?line=3'>4</a>\u001b[0m \u001b[39mprint\u001b[39m(s \u001b[39m+\u001b[39;49m age)\n",
      "\u001b[0;31mTypeError\u001b[0m: can only concatenate str (not \"int\") to str"
     ]
    }
   ],
   "source": [
    "# What about other data types?\n",
    "age = 20\n",
    "s = \"My age is: \"\n",
    "print(s + age)\n",
    "\n",
    "# Mmmm, TypeError again?"
   ]
  },
  {
   "cell_type": "markdown",
   "id": "6be7dd0d",
   "metadata": {},
   "source": [
    "In order to use an integer with the string, we need to cast the datatype `int` to `str`. This operation is called casting, and it is used to make datatypes behave in a different way."
   ]
  },
  {
   "cell_type": "code",
   "execution_count": null,
   "id": "6ee2522d",
   "metadata": {},
   "outputs": [],
   "source": [
    "# For this example, we'll cast the integer to a string type.\n",
    "age = 20\n",
    "s = \"My age is: \"\n",
    "print(s + str(age))"
   ]
  },
  {
   "cell_type": "code",
   "execution_count": null,
   "id": "a0740674",
   "metadata": {},
   "outputs": [],
   "source": [
    "# Let's take it up a notch.\n",
    "# How would I print \"I am 20 years old.\" (without quotes), without declaring any string variables?"
   ]
  },
  {
   "cell_type": "markdown",
   "id": "072a8f01",
   "metadata": {},
   "source": [
    "## Conditionals\n",
    "Sometimes, we have different cases, and we want the program to deal with those different cases. We use `if`, `elseif`, and `else` in order to deal with different cases."
   ]
  },
  {
   "cell_type": "code",
   "execution_count": null,
   "id": "3441e58a",
   "metadata": {},
   "outputs": [],
   "source": [
    "if (True):\n",
    "    print(\"This is True!\")\n",
    "    # whatever code related to the if statement should be indented this way.\n",
    "    # note that the indentation should be constant throughout the entire code.\n",
    "    # HINT: Use tabs, not spaces!"
   ]
  },
  {
   "cell_type": "code",
   "execution_count": null,
   "id": "6b5f84c4",
   "metadata": {},
   "outputs": [],
   "source": [
    "# We want to know the rating of a student who scored a specific grade.\n",
    "grade = input(\"Enter your grade: \")\n",
    "grade = int(grade)\n",
    "if grade >= 90:\n",
    "    print(\"Rating: A\")\n",
    "    # Notice the indentation.\n",
    "elif grade >= 85: # This is the elseif command\n",
    "    print(\"Rating: A-\")\n",
    "elif grade >= 80:\n",
    "    print(\"Rating: B+\")\n",
    "elif grade >= 75:\n",
    "    print(\"Rating: B\")\n",
    "elif grade >= 70:\n",
    "    print(\"Rating: B-\")\n",
    "elif grade >= 65:\n",
    "    print(\"Rating: C+\")\n",
    "elif grade >= 60:\n",
    "    print(\"Rating: C\")\n",
    "elif grade >= 55:\n",
    "    print(\"Rating: C-\")\n",
    "else:\n",
    "    print(\"FAIL\")\n"
   ]
  },
  {
   "cell_type": "markdown",
   "id": "365b4e54",
   "metadata": {},
   "source": [
    "## Loops and Iteration"
   ]
  },
  {
   "cell_type": "markdown",
   "id": "b0d0a16e",
   "metadata": {},
   "source": [
    "In order to repeat commands and processes, we use loops to go over a `range` of `iterable` elements.\n",
    "\n",
    "Iterable elements are elements that you can run an iteration over, in order to access their values. We can choose to go over the range of the elements to do certain tasks.\n",
    "\n",
    "Iterable datatypes:\n",
    "- Lists\n",
    "- Tuples\n",
    "- Dictionaries\n",
    "- Strings\n",
    "- Etc...\n",
    "\n",
    "Non-Iterable datatypes:\n",
    "- Integers\n",
    "- Constant numbers"
   ]
  },
  {
   "cell_type": "markdown",
   "id": "1ee83a58",
   "metadata": {},
   "source": [
    "Base code for any for loop\n",
    "```python\n",
    "for element in iterable_data:\n",
    "    # do code\n",
    "    # do more code\n",
    "# this is outside the loop\n",
    "```"
   ]
  },
  {
   "cell_type": "code",
   "execution_count": null,
   "id": "d7a4d8ae",
   "metadata": {},
   "outputs": [],
   "source": [
    "# Let's use the name list again.\n",
    "names = [\"Ahmad\", \"Abdullah\",\"Khaled\",\"Dima\"]\n",
    "for name in names:\n",
    "    print(\"Hello, \" + name + \"!\")\n",
    "print(\"That's all of them.\")"
   ]
  },
  {
   "cell_type": "code",
   "execution_count": null,
   "id": "7ec4b342",
   "metadata": {},
   "outputs": [],
   "source": [
    "# What if we do this? And why does this happen? \n",
    "for number in 25:\n",
    "    print(\"Welcome!\")\n",
    "print(\"Done!\")\n",
    "\n",
    "# Do you know how to solve this? If you don't, consider it an assignment!"
   ]
  },
  {
   "cell_type": "markdown",
   "id": "04dbf657",
   "metadata": {},
   "source": [
    "## Defining Functions\n",
    "Repetitive code makes the code look dirty, and sometimes, we need to define our own functions to do certain tasks. Let's define a function that prints the squares of a list of numbers."
   ]
  },
  {
   "cell_type": "markdown",
   "id": "4704bb9b",
   "metadata": {},
   "source": [
    "Base form of a function definition:\n",
    "```python\n",
    "def function_name (input_params):\n",
    "    # do some task\n",
    "# this is outside the function.\n",
    "```"
   ]
  },
  {
   "cell_type": "code",
   "execution_count": null,
   "id": "50cd051f",
   "metadata": {},
   "outputs": [],
   "source": [
    "def sq(some_list):\n",
    "    for number in some_list:\n",
    "        print(number ** 2, end = \" \") # the \"end\" parameter is to decide what to do after each print.\n",
    "        # here, it does not start a new line, but instead, prints an empty space.\n",
    "\n",
    "l = [4,8,2,8,1,8,2,4,8,2,9,2,4,1,6,1,5]\n",
    "\n",
    "sq(l) # this \"calls\" the function"
   ]
  },
  {
   "cell_type": "markdown",
   "id": "5afe6b29",
   "metadata": {},
   "source": [
    "## Modules\n",
    "While python has many built in functions, datatypes, and methods, some open source modules (or user-defined) offer even more functionality. In order to use them, we use the `import` keyword with the name of the module we want to import. Luckily, Google Colab has them all, all you need is to import them using this code."
   ]
  },
  {
   "cell_type": "code",
   "execution_count": null,
   "id": "48ec2136",
   "metadata": {},
   "outputs": [],
   "source": [
    "import numpy\n",
    "a = numpy.zeros(4) # this is a completely new and very useful method!\n",
    "print(a)\n",
    "print(type(a)) # you'll learn more about the numpy module later in this course."
   ]
  },
  {
   "cell_type": "markdown",
   "id": "e2420eee",
   "metadata": {},
   "source": [
    "## Help Function\n",
    "It's extremely difficult to know everything about everything, and memorizing certainly isn't required in programming. So, to read the `documentation` of any function, datatype, or method, you can access it using the `help` function. For example, documentation over classes and datatypes prints the available methods for each datatype."
   ]
  },
  {
   "cell_type": "code",
   "execution_count": null,
   "id": "d255d5f8",
   "metadata": {},
   "outputs": [],
   "source": [
    "# Let's define a few variables.\n",
    "l = [1,2,5,2,4,6,1,4,9,7,9,6,8,2,4,8]\n",
    "word = \"Word\"\n",
    "help(l)\n",
    "# Try running dir(l), and search online to know the difference."
   ]
  },
  {
   "cell_type": "code",
   "execution_count": null,
   "id": "87f298cd",
   "metadata": {},
   "outputs": [],
   "source": [
    "help(str)"
   ]
  },
  {
   "cell_type": "markdown",
   "id": "ef47f3c8",
   "metadata": {},
   "source": [
    "## Useful Methods\n",
    "There are a few methods that are useful in python, most of them are methods to the `list` datatype. Throughout this course, you'll learn more methods to more methods regarding advanced datatypes and classes, like matplotlib, seaborn, and more."
   ]
  },
  {
   "cell_type": "code",
   "execution_count": null,
   "id": "c0048471",
   "metadata": {},
   "outputs": [],
   "source": [
    "# Let's define a list/string first.\n",
    "list_0 = [\"This\",156,\"is a list\",True,\"but very random.\"]"
   ]
  },
  {
   "cell_type": "markdown",
   "id": "4699dc04",
   "metadata": {},
   "source": [
    "### .append() method\n",
    "we use it to add a value to the **end** of any list."
   ]
  },
  {
   "cell_type": "code",
   "execution_count": null,
   "id": "e178aa9f",
   "metadata": {},
   "outputs": [],
   "source": [
    "list_0.append(\"this is extra\")\n",
    "print(list_0)"
   ]
  },
  {
   "cell_type": "markdown",
   "id": "a8c3ba30",
   "metadata": {},
   "source": [
    "### .remove() method\n",
    "we use it to remove a value using the **value itself**."
   ]
  },
  {
   "cell_type": "code",
   "execution_count": null,
   "id": "6d1a08fa",
   "metadata": {},
   "outputs": [],
   "source": [
    "list_0.remove(\"this is extra\")\n",
    "print(list_0)"
   ]
  },
  {
   "cell_type": "code",
   "execution_count": null,
   "id": "d1d66d92",
   "metadata": {},
   "outputs": [],
   "source": [
    "# but what if we do it again, and remove something that doesn't exits?\n",
    "list_0.remove(\"this is extra\")\n",
    "print(list_0)\n",
    "# Yet another ValueError..."
   ]
  },
  {
   "cell_type": "markdown",
   "id": "79580671",
   "metadata": {},
   "source": [
    "### del command\n",
    "we use this to delete entire lists or parts of lists, but uses **indices** not **the actual value**."
   ]
  },
  {
   "cell_type": "code",
   "execution_count": null,
   "id": "36914268",
   "metadata": {},
   "outputs": [],
   "source": [
    "del list_0[0]\n",
    "print(list_0)"
   ]
  },
  {
   "cell_type": "code",
   "execution_count": null,
   "id": "98208ff3",
   "metadata": {},
   "outputs": [],
   "source": [
    "# Let's say goodbye to list_0\n",
    "del list_0\n",
    "print(list_0)\n",
    "# Goodbye, list_0..."
   ]
  },
  {
   "cell_type": "markdown",
   "id": "ca8b14c3",
   "metadata": {},
   "source": [
    "### len function\n",
    "we use this function to know how many elements there are in a list."
   ]
  },
  {
   "cell_type": "code",
   "execution_count": null,
   "id": "5cb7b58e",
   "metadata": {},
   "outputs": [],
   "source": [
    "# .. and hello list_1\n",
    "list_1 = [\"this is\", \"yet\",\"another\",51651,False,\"messy list\"]\n",
    "print(len(list_1))"
   ]
  }
 ],
 "metadata": {
  "kernelspec": {
   "display_name": "Python 3",
   "language": "python",
   "name": "python3"
  },
  "language_info": {
   "codemirror_mode": {
    "name": "ipython",
    "version": 3
   },
   "file_extension": ".py",
   "mimetype": "text/x-python",
   "name": "python",
   "nbconvert_exporter": "python",
   "pygments_lexer": "ipython3",
   "version": "3.10.6"
  },
  "vscode": {
   "interpreter": {
    "hash": "916dbcbb3f70747c44a77c7bcd40155683ae19c65e1c03b4aa3499c5328201f1"
   }
  }
 },
 "nbformat": 4,
 "nbformat_minor": 5
}
